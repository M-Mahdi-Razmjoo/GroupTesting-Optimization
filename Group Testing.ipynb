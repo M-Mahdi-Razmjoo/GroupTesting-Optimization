{
 "cells": [
  {
   "cell_type": "markdown",
   "metadata": {},
   "source": [
    "# 3. GroupTesting"
   ]
  },
  {
   "cell_type": "code",
   "execution_count": 7,
   "metadata": {},
   "outputs": [],
   "source": [
    "import cvxpy as cp\n",
    "import numpy as np"
   ]
  },
  {
   "cell_type": "markdown",
   "metadata": {},
   "source": [
    "**$\\bullet$ group_testing.py :**"
   ]
  },
  {
   "cell_type": "code",
   "execution_count": 3,
   "metadata": {},
   "outputs": [],
   "source": [
    "# Construct the problem\n",
    "N = 1000 # Population size\n",
    "S = 10 # Number of infected individuals\n",
    "M = 100 # Number of tests\n",
    "K = 10 # Number of splits of each sample\n",
    "# Define x0\n",
    "ind0 = np.random.choice(N,S,0) # index subset \n",
    "x0 = np.zeros(N) \n",
    "x0[ind0] = np.random.rand(S)\n",
    "\n",
    "# Define A\n",
    "A = np.zeros((M,N))\n",
    "for i in np.arange(N):\n",
    "    ind = np.random.choice(M,K,replace=False)\n",
    "    A[ind,i] = 1\n",
    "\n",
    "y = A @ x0"
   ]
  },
  {
   "cell_type": "markdown",
   "metadata": {},
   "source": [
    "## (a)"
   ]
  },
  {
   "cell_type": "code",
   "execution_count": 4,
   "metadata": {},
   "outputs": [
    {
     "name": "stdout",
     "output_type": "stream",
     "text": [
      "True infected indices: [70, 319, 420, 432, 507, 562, 736, 867, 915, 965]\n",
      "Estimated infected indices: [70, 319, 420, 432, 507, 562, 736, 867, 915, 965]\n",
      "Correct identifications: 10/10\n"
     ]
    }
   ],
   "source": [
    "x = cp.Variable(N, nonneg=True)\n",
    "objective = cp.Minimize(cp.norm(x, 1))\n",
    "constraints = [A @ x == y]\n",
    "problem = cp.Problem(objective, constraints)\n",
    "problem.solve()\n",
    "\n",
    "x_estimated = x.value\n",
    "estimated_indices = np.argsort(x_estimated)[-S:]\n",
    "\n",
    "print(\"True infected indices:\", [int(index) for index in sorted(ind0)])\n",
    "print(\"Estimated infected indices:\", [int(index) for index in sorted(estimated_indices)])\n",
    "\n",
    "correct_identifications = set(ind0).intersection(set(estimated_indices))\n",
    "print(f\"Correct identifications: {len(correct_identifications)}/10\")"
   ]
  },
  {
   "cell_type": "markdown",
   "metadata": {},
   "source": [
    "## (b)"
   ]
  },
  {
   "cell_type": "markdown",
   "metadata": {},
   "source": [
    "As $K$ decreases, the number of tests each person contributes to reduces, which can make it harder for the optimization problem to recover the correct sparse vector $x$. We expect that below a certain threshold of $K$, the recovery accuracy will drop significantly."
   ]
  },
  {
   "cell_type": "code",
   "execution_count": 5,
   "metadata": {},
   "outputs": [
    {
     "name": "stdout",
     "output_type": "stream",
     "text": [
      "K = 1: Failure\n",
      "K = 2: Failure\n",
      "K = 3: Success\n",
      "K = 4: Success\n",
      "K = 5: Success\n",
      "K = 6: Success\n",
      "K = 7: Success\n",
      "K = 8: Success\n",
      "K = 9: Success\n",
      "K = 10: Success\n",
      "K = 11: Success\n",
      "K = 12: Success\n",
      "K = 13: Success\n",
      "K = 14: Success\n",
      "K = 15: Success\n",
      "K = 16: Success\n",
      "K = 17: Success\n",
      "K = 18: Success\n",
      "K = 19: Success\n",
      "K = 20: Success\n",
      "\n",
      "Minimum K where recovery Success: 3\n"
     ]
    }
   ],
   "source": [
    "def test_group_testing(K):\n",
    "    A = np.zeros((M, N))\n",
    "    for i in range(N):\n",
    "        ind = np.random.choice(M, K, replace=False)\n",
    "        A[ind, i] = 1\n",
    "\n",
    "    y = A @ x0\n",
    "\n",
    "    x = cp.Variable(N, nonneg=True)\n",
    "    objective = cp.Minimize(cp.norm(x, 1))\n",
    "    constraints = [A @ x == y]\n",
    "    problem = cp.Problem(objective, constraints)\n",
    "    problem.solve()\n",
    "\n",
    "    x_estimated = x.value\n",
    "    estimated_indices = np.argsort(x_estimated)[-S:]\n",
    "\n",
    "    correct_identifications = len(set(ind0).intersection(set(estimated_indices)))\n",
    "    return correct_identifications == S\n",
    "\n",
    "K_values = list(range(1, 21))\n",
    "results = {}\n",
    "for K in K_values:\n",
    "    success = test_group_testing(K)\n",
    "    results[K] = success\n",
    "    print(f\"K = {K}: {'Success' if success else 'Failure'}\")\n",
    "\n",
    "print(\"\\nMinimum K where recovery Success:\", min([k for k, v in results.items() if v]))\n"
   ]
  },
  {
   "cell_type": "markdown",
   "metadata": {},
   "source": [
    "## (c)"
   ]
  },
  {
   "cell_type": "markdown",
   "metadata": {},
   "source": [
    "As the number of infected individuals increases, the vector $x$ becomes less sparse. This increase in density makes it more challenging for the group testing approach to recover the infected individuals accurately, especially when $M$ is fixed and smaller than $N$. To achieve accurate recovery at higher prevalence levels, we may need to increase $K$ to ensure sufficient overlap between samples for each test.  \n",
    "For very low prevalence levels we expect smaller $K$ values (around 5-10) to work well. As prevalence increases, we expect higher $K$ values to be necessary, likely around 15 or 20 for prevalence levels close to the threshold where the method fails."
   ]
  },
  {
   "cell_type": "code",
   "execution_count": 6,
   "metadata": {},
   "outputs": [
    {
     "name": "stdout",
     "output_type": "stream",
     "text": [
      "\n",
      "Testing for prevalence: 1.0%\n",
      "Success with K = 3\n",
      "\n",
      "Testing for prevalence: 2.0%\n",
      "Success with K = 5\n",
      "\n",
      "Testing for prevalence: 3.0%\n",
      "Success with K = 15\n",
      "\n",
      "Testing for prevalence: 5.0%\n",
      "Failed to recover with any tested K\n",
      "\n",
      "Testing for prevalence: 10.0%\n",
      "Failed to recover with any tested K\n",
      "\n",
      "Testing for prevalence: 15.0%\n",
      "Failed to recover with any tested K\n",
      "\n",
      "Testing for prevalence: 20.0%\n",
      "Failed to recover with any tested K\n",
      "\n",
      "Optimal K values for each prevalence level:\n",
      "Prevalence 1.0%: Optimal K = 3\n",
      "Prevalence 2.0%: Optimal K = 5\n",
      "Prevalence 3.0%: Optimal K = 15\n"
     ]
    }
   ],
   "source": [
    "prevalence_levels = [0.01, 0.02, 0.03, 0.05, 0.1, 0.15, 0.2]\n",
    "K_values = range(1, 21)\n",
    "\n",
    "def test_group_testing(prevalence, K):\n",
    "    S = int(prevalence * N)\n",
    "    x0 = np.zeros(N)\n",
    "    ind0 = np.random.choice(N, S, 0)\n",
    "    x0[ind0] = np.random.uniform(1, 10, S)\n",
    "\n",
    "    A = np.zeros((M, N))\n",
    "    for i in range(N):\n",
    "        ind = np.random.choice(M, K, replace=False)\n",
    "        A[ind, i] = 1\n",
    "\n",
    "    y = A @ x0\n",
    "\n",
    "    x = cp.Variable(N, nonneg=True)\n",
    "    objective = cp.Minimize(cp.norm(x, 1))\n",
    "    constraints = [A @ x == y]\n",
    "    problem = cp.Problem(objective, constraints)\n",
    "    problem.solve()\n",
    "\n",
    "    x_estimated = x.value\n",
    "    estimated_indices = np.argsort(x_estimated)[-S:]\n",
    "\n",
    "    correct_identifications = len(set(ind0).intersection(set(estimated_indices)))\n",
    "    return correct_identifications == S\n",
    "\n",
    "results = {}\n",
    "for prevalence in prevalence_levels:\n",
    "    print(f\"\\nTesting for prevalence: {prevalence * 100}%\")\n",
    "    success_for_prevalence = False\n",
    "    for K in K_values:\n",
    "        success = test_group_testing(prevalence, K)\n",
    "        if success:\n",
    "            print(f\"Success with K = {K}\")\n",
    "            results[prevalence] = K\n",
    "            success_for_prevalence = True\n",
    "            break\n",
    "    if not success_for_prevalence:\n",
    "        print(\"Failed to recover with any tested K\")\n",
    "\n",
    "print(\"\\nOptimal K values for each prevalence level:\")\n",
    "for prevalence, optimal_K in results.items():\n",
    "    print(f\"Prevalence {prevalence * 100}%: Optimal K = {optimal_K}\")"
   ]
  }
 ],
 "metadata": {
  "kernelspec": {
   "display_name": "Python 3",
   "language": "python",
   "name": "python3"
  },
  "language_info": {
   "codemirror_mode": {
    "name": "ipython",
    "version": 3
   },
   "file_extension": ".py",
   "mimetype": "text/x-python",
   "name": "python",
   "nbconvert_exporter": "python",
   "pygments_lexer": "ipython3",
   "version": "3.12.6"
  }
 },
 "nbformat": 4,
 "nbformat_minor": 2
}
